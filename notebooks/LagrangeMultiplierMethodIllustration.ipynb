{
 "cells": [
  {
   "cell_type": "code",
   "execution_count": null,
   "id": "brilliant-catch",
   "metadata": {},
   "outputs": [],
   "source": [
    "import numpy as np\n",
    "import plotly.graph_objects as go"
   ]
  },
  {
   "cell_type": "markdown",
   "id": "marked-laser",
   "metadata": {},
   "source": [
    "Consider a function $f()$ of two variables, $w_1$ and $w_2$:\n",
    "$$\n",
    "f(w_1,w_2) = w_1w_2 + 1\n",
    "$$"
   ]
  },
  {
   "cell_type": "code",
   "execution_count": null,
   "id": "amended-scoop",
   "metadata": {},
   "outputs": [],
   "source": [
    "def f(w1,w2):\n",
    "    return w1*w2 + 1"
   ]
  },
  {
   "cell_type": "markdown",
   "id": "hybrid-coating",
   "metadata": {},
   "source": [
    "We will first plot the function in 3-D"
   ]
  },
  {
   "cell_type": "code",
   "execution_count": null,
   "id": "center-center",
   "metadata": {},
   "outputs": [],
   "source": [
    "w1s = w2s = np.linspace(-5,5,500)\n",
    "W1,W2 = np.meshgrid(w1s,w2s)\n",
    "fval = f(W1.flatten(),W2.flatten())\n",
    "F = np.reshape(fval,W1.shape)"
   ]
  },
  {
   "cell_type": "code",
   "execution_count": null,
   "id": "gothic-mediterranean",
   "metadata": {},
   "outputs": [],
   "source": [
    "fig = go.Figure(data=[go.Surface(z=F, x=W1, y=W2)])\n",
    "fig.update_layout(width=800, height=500)"
   ]
  },
  {
   "cell_type": "markdown",
   "id": "surgical-difficulty",
   "metadata": {},
   "source": [
    "We can also plot the same function using contours in 2-D"
   ]
  },
  {
   "cell_type": "code",
   "execution_count": null,
   "id": "compliant-birmingham",
   "metadata": {},
   "outputs": [],
   "source": [
    "fig = go.Figure(data=go.Contour(z=F,x=w1s,y=w2s,autocontour=True,ncontours=100,contours=dict(showlabels = True)))\n",
    "fig.update_layout(autosize=False,width=500, height=500)"
   ]
  },
  {
   "cell_type": "markdown",
   "id": "lucky-carroll",
   "metadata": {},
   "source": [
    "Now let us add an equality constraint, $h(w_1,w_2) = 0$:\n",
    "$$\n",
    "w_1^2 + w_2^2 = 4\n",
    "$$"
   ]
  },
  {
   "cell_type": "code",
   "execution_count": null,
   "id": "right-printing",
   "metadata": {},
   "outputs": [],
   "source": [
    "fig = go.Figure(data=go.Contour(z=F,x=w1s,y=w2s,\n",
    "                                autocontour=True,ncontours=100,\n",
    "                                contours=dict(showlabels = True)))\n",
    "fig.update_layout(autosize=False,width=500, height=500)\n",
    "\n",
    "fig.add_shape(type=\"circle\",\n",
    "    xref=\"x\", yref=\"y\",\n",
    "    x0=-2, y0=-2, x1=2, y1=2,\n",
    "    line_color=\"blue\",\n",
    ")"
   ]
  },
  {
   "cell_type": "markdown",
   "id": "mental-client",
   "metadata": {},
   "source": [
    "We are interested in finding the solution for the following constrainted optimization problem:\n",
    "$$\n",
    "    \\begin{aligned}\n",
    "      & \\underset{w_1,w_2}{\\text{minimize}}\n",
    "      & f(w_1,w_2) & = & w_1w_2 + 1\\\\\n",
    "      & \\text{subject to}\n",
    "      & h(w_1,w_2) & : & w_1^2 + w_2^2 = 4.\n",
    "    \\end{aligned}\n",
    "$$\n",
    "We are interested in finding a point on the blue circle, at which the value of $f()$ is minimum. The core idea behind the Lagrange multiplier method is that the solution of the above optimization problem exists at a point where the gradient of the function $f()$ and the gradient of the function $g()$ are aligned and the constraint is valid, i.e.,\n",
    "$$\n",
    "\\begin{aligned}\n",
    "\\nabla f(w_1,w_2) & = \\lambda \\nabla h(w_1,w_2)\\\\\n",
    "g(w_1,w_2) & = 0\n",
    "\\end{aligned}\n",
    "$$\n",
    "where $\\lambda$ is a scalar constant."
   ]
  }
 ],
 "metadata": {
  "kernelspec": {
   "display_name": "Python 3",
   "language": "python",
   "name": "python3"
  },
  "language_info": {
   "codemirror_mode": {
    "name": "ipython",
    "version": 3
   },
   "file_extension": ".py",
   "mimetype": "text/x-python",
   "name": "python",
   "nbconvert_exporter": "python",
   "pygments_lexer": "ipython3",
   "version": "3.6.10"
  }
 },
 "nbformat": 4,
 "nbformat_minor": 5
}
